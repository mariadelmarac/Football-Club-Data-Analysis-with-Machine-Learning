{
 "cells": [
  {
   "cell_type": "code",
   "execution_count": 3,
   "id": "f92867ee",
   "metadata": {},
   "outputs": [
    {
     "data": {
      "text/html": [
       "<div>\n",
       "<style scoped>\n",
       "    .dataframe tbody tr th:only-of-type {\n",
       "        vertical-align: middle;\n",
       "    }\n",
       "\n",
       "    .dataframe tbody tr th {\n",
       "        vertical-align: top;\n",
       "    }\n",
       "\n",
       "    .dataframe thead th {\n",
       "        text-align: right;\n",
       "    }\n",
       "</style>\n",
       "<table border=\"1\" class=\"dataframe\">\n",
       "  <thead>\n",
       "    <tr style=\"text-align: right;\">\n",
       "      <th></th>\n",
       "      <th>fecha_partido</th>\n",
       "      <th>equipo_local</th>\n",
       "      <th>equipo_visitante</th>\n",
       "      <th>goles_local</th>\n",
       "      <th>goles_visitante</th>\n",
       "      <th>posesion_local (%)</th>\n",
       "      <th>posesion_visitante (%)</th>\n",
       "      <th>tiros_arco_local</th>\n",
       "      <th>tiros_arco_visitante</th>\n",
       "      <th>estadio</th>\n",
       "      <th>diferencia_goles</th>\n",
       "    </tr>\n",
       "  </thead>\n",
       "  <tbody>\n",
       "    <tr>\n",
       "      <th>0</th>\n",
       "      <td>2023-01-01</td>\n",
       "      <td>Atlético Python</td>\n",
       "      <td>Cebollitas FC</td>\n",
       "      <td>2</td>\n",
       "      <td>0</td>\n",
       "      <td>54</td>\n",
       "      <td>46</td>\n",
       "      <td>12</td>\n",
       "      <td>6</td>\n",
       "      <td>Python Arena</td>\n",
       "      <td>2</td>\n",
       "    </tr>\n",
       "    <tr>\n",
       "      <th>1</th>\n",
       "      <td>2023-01-08</td>\n",
       "      <td>NumPy City</td>\n",
       "      <td>Atlético Python</td>\n",
       "      <td>1</td>\n",
       "      <td>5</td>\n",
       "      <td>60</td>\n",
       "      <td>40</td>\n",
       "      <td>12</td>\n",
       "      <td>3</td>\n",
       "      <td>Estadio ML</td>\n",
       "      <td>-4</td>\n",
       "    </tr>\n",
       "    <tr>\n",
       "      <th>2</th>\n",
       "      <td>2023-01-15</td>\n",
       "      <td>Cebollitas FC</td>\n",
       "      <td>Data United</td>\n",
       "      <td>1</td>\n",
       "      <td>0</td>\n",
       "      <td>55</td>\n",
       "      <td>45</td>\n",
       "      <td>10</td>\n",
       "      <td>7</td>\n",
       "      <td>Python Arena</td>\n",
       "      <td>1</td>\n",
       "    </tr>\n",
       "    <tr>\n",
       "      <th>3</th>\n",
       "      <td>2023-01-22</td>\n",
       "      <td>Atlético Python</td>\n",
       "      <td>Data United</td>\n",
       "      <td>2</td>\n",
       "      <td>3</td>\n",
       "      <td>57</td>\n",
       "      <td>43</td>\n",
       "      <td>3</td>\n",
       "      <td>3</td>\n",
       "      <td>Campo Pandas</td>\n",
       "      <td>-1</td>\n",
       "    </tr>\n",
       "    <tr>\n",
       "      <th>4</th>\n",
       "      <td>2023-01-29</td>\n",
       "      <td>Data United</td>\n",
       "      <td>Cebollitas FC</td>\n",
       "      <td>5</td>\n",
       "      <td>3</td>\n",
       "      <td>52</td>\n",
       "      <td>48</td>\n",
       "      <td>7</td>\n",
       "      <td>12</td>\n",
       "      <td>Estadio ML</td>\n",
       "      <td>2</td>\n",
       "    </tr>\n",
       "  </tbody>\n",
       "</table>\n",
       "</div>"
      ],
      "text/plain": [
       "  fecha_partido     equipo_local equipo_visitante  goles_local  \\\n",
       "0    2023-01-01  Atlético Python    Cebollitas FC            2   \n",
       "1    2023-01-08       NumPy City  Atlético Python            1   \n",
       "2    2023-01-15    Cebollitas FC      Data United            1   \n",
       "3    2023-01-22  Atlético Python      Data United            2   \n",
       "4    2023-01-29      Data United    Cebollitas FC            5   \n",
       "\n",
       "   goles_visitante  posesion_local (%)  posesion_visitante (%)  \\\n",
       "0                0                  54                      46   \n",
       "1                5                  60                      40   \n",
       "2                0                  55                      45   \n",
       "3                3                  57                      43   \n",
       "4                3                  52                      48   \n",
       "\n",
       "   tiros_arco_local  tiros_arco_visitante       estadio  diferencia_goles  \n",
       "0                12                     6  Python Arena                 2  \n",
       "1                12                     3    Estadio ML                -4  \n",
       "2                10                     7  Python Arena                 1  \n",
       "3                 3                     3  Campo Pandas                -1  \n",
       "4                 7                    12    Estadio ML                 2  "
      ]
     },
     "execution_count": 3,
     "metadata": {},
     "output_type": "execute_result"
    }
   ],
   "source": [
    "import pandas as pd\n",
    "from sklearn.model_selection import train_test_split\n",
    "import ipywidgets as widgets\n",
    "from IPython.display import display\n",
    "\n",
    "df = pd.read_csv('data/partidos_cebollitas.csv')\n",
    "df['diferencia_goles'] = df['goles_local'] - df['goles_visitante']\n",
    "df.head()"
   ]
  },
  {
   "cell_type": "code",
   "execution_count": 4,
   "id": "b8feea6a",
   "metadata": {},
   "outputs": [
    {
     "data": {
      "application/vnd.jupyter.widget-view+json": {
       "model_id": "86e589f127a148b282a1087455011a80",
       "version_major": 2,
       "version_minor": 0
      },
      "text/plain": [
       "FloatSlider(value=0.2, continuous_update=False, description='Test Size:', max=0.5, min=0.1, step=0.05)"
      ]
     },
     "metadata": {},
     "output_type": "display_data"
    }
   ],
   "source": [
    "# Interactive slider for test set size\n",
    "slider = widgets.FloatSlider(value=0.2, min=0.1, max=0.5, step=0.05, description='Test Size:', continuous_update=False)\n",
    "display(slider)"
   ]
  },
  {
   "cell_type": "code",
   "execution_count": 5,
   "id": "decb7e07",
   "metadata": {},
   "outputs": [],
   "source": [
    "df_cebollitas = df[(df['equipo_local'] == 'Cebollitas FC') | (df['equipo_visitante'] == 'Cebollitas FC')]"
   ]
  },
  {
   "cell_type": "code",
   "execution_count": 6,
   "id": "ba9cb66f",
   "metadata": {},
   "outputs": [
    {
     "data": {
      "application/vnd.jupyter.widget-view+json": {
       "model_id": "0ffbdcd825ae4ac29afc2af91ea00e59",
       "version_major": 2,
       "version_minor": 0
      },
      "text/plain": [
       "interactive(children=(FloatSlider(value=0.15000000000000002, continuous_update=False, description='Test Size:'…"
      ]
     },
     "execution_count": 6,
     "metadata": {},
     "output_type": "execute_result"
    }
   ],
   "source": [
    "def data_split(test_size):\n",
    "    X = df_cebollitas[['posesion_local (%)', 'tiros_arco_local', 'goles_local']]\n",
    "    y = df_cebollitas['diferencia_goles']\n",
    "\n",
    "    X_train, X_test, y_train, y_test = train_test_split(X, y, test_size=test_size, random_state=42)\n",
    "    \n",
    "    print(f\"Train size: {len(X_train)} games, Test size: {len(X_test)} games\")\n",
    "\n",
    "    return X_train, X_test, y_train, y_test\n",
    "\n",
    "widgets.interactive(data_split, test_size=slider)"
   ]
  },
  {
   "cell_type": "code",
   "execution_count": 7,
   "id": "6f227ca0",
   "metadata": {},
   "outputs": [
    {
     "name": "stdout",
     "output_type": "stream",
     "text": [
      "Training set preview:\n"
     ]
    },
    {
     "data": {
      "text/html": [
       "<div>\n",
       "<style scoped>\n",
       "    .dataframe tbody tr th:only-of-type {\n",
       "        vertical-align: middle;\n",
       "    }\n",
       "\n",
       "    .dataframe tbody tr th {\n",
       "        vertical-align: top;\n",
       "    }\n",
       "\n",
       "    .dataframe thead th {\n",
       "        text-align: right;\n",
       "    }\n",
       "</style>\n",
       "<table border=\"1\" class=\"dataframe\">\n",
       "  <thead>\n",
       "    <tr style=\"text-align: right;\">\n",
       "      <th></th>\n",
       "      <th>posesion_local (%)</th>\n",
       "      <th>tiros_arco_local</th>\n",
       "      <th>goles_local</th>\n",
       "    </tr>\n",
       "  </thead>\n",
       "  <tbody>\n",
       "    <tr>\n",
       "      <th>5</th>\n",
       "      <td>60</td>\n",
       "      <td>8</td>\n",
       "      <td>3</td>\n",
       "    </tr>\n",
       "    <tr>\n",
       "      <th>11</th>\n",
       "      <td>49</td>\n",
       "      <td>4</td>\n",
       "      <td>4</td>\n",
       "    </tr>\n",
       "    <tr>\n",
       "      <th>66</th>\n",
       "      <td>43</td>\n",
       "      <td>4</td>\n",
       "      <td>0</td>\n",
       "    </tr>\n",
       "    <tr>\n",
       "      <th>70</th>\n",
       "      <td>50</td>\n",
       "      <td>5</td>\n",
       "      <td>2</td>\n",
       "    </tr>\n",
       "    <tr>\n",
       "      <th>44</th>\n",
       "      <td>45</td>\n",
       "      <td>5</td>\n",
       "      <td>5</td>\n",
       "    </tr>\n",
       "  </tbody>\n",
       "</table>\n",
       "</div>"
      ],
      "text/plain": [
       "    posesion_local (%)  tiros_arco_local  goles_local\n",
       "5                   60                 8            3\n",
       "11                  49                 4            4\n",
       "66                  43                 4            0\n",
       "70                  50                 5            2\n",
       "44                  45                 5            5"
      ]
     },
     "metadata": {},
     "output_type": "display_data"
    },
    {
     "name": "stdout",
     "output_type": "stream",
     "text": [
      "Test set preview:\n"
     ]
    },
    {
     "data": {
      "text/html": [
       "<div>\n",
       "<style scoped>\n",
       "    .dataframe tbody tr th:only-of-type {\n",
       "        vertical-align: middle;\n",
       "    }\n",
       "\n",
       "    .dataframe tbody tr th {\n",
       "        vertical-align: top;\n",
       "    }\n",
       "\n",
       "    .dataframe thead th {\n",
       "        text-align: right;\n",
       "    }\n",
       "</style>\n",
       "<table border=\"1\" class=\"dataframe\">\n",
       "  <thead>\n",
       "    <tr style=\"text-align: right;\">\n",
       "      <th></th>\n",
       "      <th>posesion_local (%)</th>\n",
       "      <th>tiros_arco_local</th>\n",
       "      <th>goles_local</th>\n",
       "    </tr>\n",
       "  </thead>\n",
       "  <tbody>\n",
       "    <tr>\n",
       "      <th>89</th>\n",
       "      <td>41</td>\n",
       "      <td>5</td>\n",
       "      <td>4</td>\n",
       "    </tr>\n",
       "    <tr>\n",
       "      <th>55</th>\n",
       "      <td>51</td>\n",
       "      <td>6</td>\n",
       "      <td>4</td>\n",
       "    </tr>\n",
       "    <tr>\n",
       "      <th>58</th>\n",
       "      <td>42</td>\n",
       "      <td>10</td>\n",
       "      <td>5</td>\n",
       "    </tr>\n",
       "    <tr>\n",
       "      <th>88</th>\n",
       "      <td>54</td>\n",
       "      <td>9</td>\n",
       "      <td>0</td>\n",
       "    </tr>\n",
       "    <tr>\n",
       "      <th>83</th>\n",
       "      <td>47</td>\n",
       "      <td>3</td>\n",
       "      <td>3</td>\n",
       "    </tr>\n",
       "  </tbody>\n",
       "</table>\n",
       "</div>"
      ],
      "text/plain": [
       "    posesion_local (%)  tiros_arco_local  goles_local\n",
       "89                  41                 5            4\n",
       "55                  51                 6            4\n",
       "58                  42                10            5\n",
       "88                  54                 9            0\n",
       "83                  47                 3            3"
      ]
     },
     "metadata": {},
     "output_type": "display_data"
    }
   ],
   "source": [
    "# Standard split with fixed test size for display (80% train, 20% test)\n",
    "X_train, X_test, y_train, y_test = train_test_split(\n",
    "    df_cebollitas[['posesion_local (%)', 'tiros_arco_local', 'goles_local']],\n",
    "    df_cebollitas['diferencia_goles'],\n",
    "    test_size=0.2, random_state=42\n",
    ")\n",
    "\n",
    "print('Training set preview:')\n",
    "display(X_train.head())\n",
    "print('Test set preview:')\n",
    "display(X_test.head())"
   ]
  }
 ],
 "metadata": {
  "kernelspec": {
   "display_name": "venv",
   "language": "python",
   "name": "python3"
  },
  "language_info": {
   "codemirror_mode": {
    "name": "ipython",
    "version": 3
   },
   "file_extension": ".py",
   "mimetype": "text/x-python",
   "name": "python",
   "nbconvert_exporter": "python",
   "pygments_lexer": "ipython3",
   "version": "3.12.3"
  }
 },
 "nbformat": 4,
 "nbformat_minor": 5
}
